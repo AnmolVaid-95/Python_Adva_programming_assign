{
 "cells": [
  {
   "cell_type": "markdown",
   "id": "29036b17",
   "metadata": {},
   "source": [
    "1. Implement a class iterator to flatten a nested list of lists of integers. Each list element is either an integer or a list. There can be many levels of nested lists in lists.\n",
    "\n",
    "The class initializes with a nested list. It also has two methods:\n",
    "\n",
    "next() returns an integer in the order of appearance.\n",
    "\n",
    "hasNext() returns True / False regarding if all integers have been retrieved or not.\n",
    "\n",
    "Write the Class implementation for three required methods"
   ]
  },
  {
   "cell_type": "code",
   "execution_count": 1,
   "id": "9f824ff1",
   "metadata": {},
   "outputs": [
    {
     "name": "stdout",
     "output_type": "stream",
     "text": [
      "actual ➞ [1, 1, 2, 1, 1]\n",
      "actual ➞ [1, 4, 6]\n",
      "actual ➞ []\n"
     ]
    }
   ],
   "source": [
    "class NestedIterator:\n",
    "    def __init__(self,in_list):\n",
    "        self.list = in_list\n",
    "        self.flatten_list = []\n",
    "        self.test(self.list)\n",
    "    \n",
    "    def test(self,in_list):\n",
    "        for ele in in_list:\n",
    "            if isinstance(ele,int):\n",
    "                self.flatten_list.append(ele)\n",
    "            else:\n",
    "                self.test(ele)\n",
    "                \n",
    "    def hasNext(self):\n",
    "        return True if len(self.flatten_list) > 0 else False\n",
    "    \n",
    "    def next(self):\n",
    "        return self.flatten_list.pop(0)\n",
    "    \n",
    "ni, actual = NestedIterator([[1, 1], 2, [1, 1]]), []\n",
    "while ni.hasNext():\n",
    "    actual.append(ni.next())\n",
    "print(f'actual ➞ {actual}')\n",
    "\n",
    "ni, actual = NestedIterator([1, [4, [6]]]), []\n",
    "while ni.hasNext():\n",
    "    actual.append(ni.next())\n",
    "print(f'actual ➞ {actual}')\n",
    "\n",
    "ni, actual = NestedIterator([[[]], []]), []\n",
    "while ni.hasNext():\n",
    "    actual.append(ni.next())\n",
    "print(f'actual ➞ {actual}')"
   ]
  },
  {
   "cell_type": "code",
   "execution_count": null,
   "id": "6e232c74",
   "metadata": {},
   "outputs": [],
   "source": []
  },
  {
   "attachments": {
    "image.png": {
     "image/png": "[encoded data removed]"
    }
   },
   "cell_type": "markdown",
   "id": "a9bc61cc",
   "metadata": {},
   "source": [
    "2. Given a 3x3 matrix of a completed tic-tac-toe game, create a function that returns whether the game is a win for \"X\", \"O\", or a \"Draw\", where \"X\" and \"O\" represent themselves on the matrix, and \"E\" represents an empty spot.\n",
    "\n",
    "![image.png](attachment:image.png)"
   ]
  },
  {
   "cell_type": "code",
   "execution_count": 2,
   "id": "df7abb40",
   "metadata": {},
   "outputs": [
    {
     "name": "stdout",
     "output_type": "stream",
     "text": [
      "tic_tac_toe([['X', 'O', 'X'], ['O', 'X', 'O'], ['O', 'X', 'X']]) ➞ \"X\"\n",
      "tic_tac_toe([['O', 'O', 'O'], ['O', 'X', 'X'], ['E', 'X', 'X']]) ➞ \"O\"\n",
      "tic_tac_toe([['X', 'X', 'O'], ['O', 'O', 'X'], ['X', 'X', 'O']]) ➞ \"Draw\"\n",
      "tic_tac_toe([['X', 'X', 'O'], ['X', 'O', 'X'], ['X', 'O', 'O']]) ➞ \"X\"\n",
      "tic_tac_toe([['O', 'O', 'X'], ['O', 'X', 'O'], ['X', 'O', 'O']]) ➞ \"X\"\n"
     ]
    }
   ],
   "source": [
    "def tic_tac_toe(in_list):\n",
    "    output = None  \n",
    "    # Case 1 to search for horizontal match\n",
    "    for ele in in_list:\n",
    "        if len(list(set(ele))) == 1:\n",
    "            output = list(set(ele))[0]\n",
    "            break\n",
    "    # Case 2 to search for vertical match   \n",
    "    if output == None:\n",
    "        for i in range(len(in_list)):\n",
    "            temp = []\n",
    "            for j in range(len(in_list)): temp.append(in_list[j][i])\n",
    "            if len(list(set(temp))) == 1: output = list(set(temp))[0]\n",
    "    # Case 3 to search for diagonal match\n",
    "    if output == None:\n",
    "        temp = []\n",
    "        for ele in [0,1,2]:\n",
    "            temp.append(in_list[ele][ele])\n",
    "        if len(list(set(temp))) == 1: output = list(set(temp))[0]\n",
    "    # Case 4 to search for reverse diagonal match\n",
    "    if output == None:\n",
    "        temp = []\n",
    "        for i in [0,1,2]:\n",
    "            for j in [0,1,2]:\n",
    "                if sum([i,j]) == 2: temp.append(in_list[i][j])\n",
    "        if len(list(set(temp))) == 1: output = list(set(temp))[0]\n",
    "    # Case 5 Draw Condition\n",
    "    if output == None: output = 'Draw'\n",
    "    print(f'tic_tac_toe({in_list}) ➞ \"{output}\"')\n",
    "            \n",
    "tic_tac_toe([[\"X\", \"O\", \"X\"],[\"O\", \"X\", \"O\"],[\"O\", \"X\", \"X\"]])\n",
    "tic_tac_toe([[\"O\", \"O\", \"O\"],[\"O\",\"X\", \"X\"],[\"E\", \"X\", \"X\"]])\n",
    "tic_tac_toe([[\"X\", \"X\", \"O\"],[\"O\", \"O\", \"X\"],[\"X\", \"X\", \"O\"]])\n",
    "tic_tac_toe([[\"X\", \"X\", \"O\"],[\"X\", \"O\", \"X\"],[\"X\", \"O\", \"O\"]])\n",
    "tic_tac_toe([[\"O\", \"O\", \"X\"],[\"O\", \"X\", \"O\"],[\"X\", \"O\", \"O\"]])"
   ]
  },
  {
   "cell_type": "code",
   "execution_count": null,
   "id": "982d050b",
   "metadata": {},
   "outputs": [],
   "source": []
  },
  {
   "cell_type": "markdown",
   "id": "40fd174b",
   "metadata": {},
   "source": [
    "3. Your computer might have been infected by a virus! Create a function that finds the viruses in files and removes them from your computer.\n",
    "\n",
    "Examples:\n",
    "\n",
    "remove_virus(\"PC Files: spotifysetup.exe, virus.exe, dog.jpg\") ➞ \"PC Files: spotifysetup.exe, dog.jpg\"\n",
    "\n",
    "remove_virus(\"PC Files: antivirus.exe, cat.pdf, lethalmalware.exe, dangerousvirus.exe \") ➞ \"PC \n",
    "\n",
    "Files: antivirus.exe, cat.pdf\" remove_virus(\"PC Files: notvirus.exe, funnycat.gif\") ➞ \"PC Files: notvirus.exe, funnycat.gif\")"
   ]
  },
  {
   "cell_type": "code",
   "execution_count": 3,
   "id": "ab479672",
   "metadata": {},
   "outputs": [
    {
     "name": "stdout",
     "output_type": "stream",
     "text": [
      "remove_virus(PC Files: spotifysetup.exe, virus.exe, dog.jpg) ➞ \"PC Files: spotifysetup.exe, dog.jpg\"\n",
      "remove_virus(PC Files: antivirus.exe, cat.pdf, lethalmalware.exe, dangerousvirus.exe ) ➞ \"PC Files: antivirus.exe, cat.pdf\"\n",
      "remove_virus(PC Files: notvirus.exe, funnycat.gif) ➞ \"PC Files: notvirus.exe, funnycat.gif\"\n"
     ]
    }
   ],
   "source": [
    "import re\n",
    "def remove_virus(in_string):\n",
    "    in_list = [x.strip() for x in re.split(\", \",in_string)]\n",
    "    output = []\n",
    "    for ele in in_list:\n",
    "        if ele not in ['virus.exe','dangerousvirus.exe','lethalmalware.exe']:\n",
    "            output.append(ele)\n",
    "    print(f'remove_virus({in_string}) ➞ \"{\", \".join(output)}\"')\n",
    "    \n",
    "remove_virus(\"PC Files: spotifysetup.exe, virus.exe, dog.jpg\")\n",
    "remove_virus(\"PC Files: antivirus.exe, cat.pdf, lethalmalware.exe, dangerousvirus.exe \")\n",
    "remove_virus(\"PC Files: notvirus.exe, funnycat.gif\")"
   ]
  },
  {
   "cell_type": "code",
   "execution_count": null,
   "id": "34103230",
   "metadata": {},
   "outputs": [],
   "source": []
  },
  {
   "cell_type": "markdown",
   "id": "0962f6fc",
   "metadata": {},
   "source": [
    "4. In a video game, a meteor will fall toward the main character's home planet. \n",
    "\n",
    "Given the meteor's trajectory as a string in the form y = mx + b and the character's position as a tuple of (x, y), return True if the meteor will hit the character and False if it will not.\n",
    "\n",
    "Examples:\n",
    "\n",
    "will_hit(\"y = 2x - 5\", (0, 0)) ➞ False\n",
    "\n",
    "will_hit(\"y = -4x + 6\", (1, 2)) ➞ True\n",
    "\n",
    "will_hit(\"y = 2x + 6\", (3, 2)) ➞ False"
   ]
  },
  {
   "cell_type": "code",
   "execution_count": 4,
   "id": "99b755cb",
   "metadata": {},
   "outputs": [
    {
     "name": "stdout",
     "output_type": "stream",
     "text": [
      "will_hit('y = 2x - 5', (0, 0)) ➞ False\n",
      "will_hit('y = -4x + 6', (1, 2)) ➞ True\n",
      "will_hit('y = 2x + 6', (3, 2)) ➞ False\n"
     ]
    }
   ],
   "source": [
    "def will_hit(in_eq,in_loc):\n",
    "    in_eq_list = in_eq.split(\" \")\n",
    "    temp_list = []\n",
    "    for ele in in_eq_list:\n",
    "        if 'x' in ele or 'y'in ele:\n",
    "            if len(ele) == 1:\n",
    "                temp_list.append(ele.replace('x',str(in_loc[0]))) if 'x' in ele else temp_list.append(ele.replace('y',str(in_loc[1])))\n",
    "            else:\n",
    "                temp_list.append(ele.replace('x',f'*{in_loc[0]}')) if 'x' in ele else temp_list.append(ele.replace('y',f'*{in_loc[1]}'))\n",
    "        else:\n",
    "            temp_list.append(\"==\") if ele == \"=\" else temp_list.append(ele)\n",
    "    print(f'will_hit{in_eq,in_loc} ➞ {eval(\" \".join(temp_list))}')\n",
    "\n",
    "will_hit(\"y = 2x - 5\", (0, 0))\n",
    "will_hit(\"y = -4x + 6\", (1, 2))\n",
    "will_hit(\"y = 2x + 6\", (3, 2))"
   ]
  }
 ],
 "metadata": {
  "kernelspec": {
   "display_name": "Python 3",
   "language": "python",
   "name": "python3"
  },
  "language_info": {
   "codemirror_mode": {
    "name": "ipython",
    "version": 3
   },
   "file_extension": ".py",
   "mimetype": "text/x-python",
   "name": "python",
   "nbconvert_exporter": "python",
   "pygments_lexer": "ipython3",
   "version": "3.8.8"
  }
 },
 "nbformat": 4,
 "nbformat_minor": 5
}
