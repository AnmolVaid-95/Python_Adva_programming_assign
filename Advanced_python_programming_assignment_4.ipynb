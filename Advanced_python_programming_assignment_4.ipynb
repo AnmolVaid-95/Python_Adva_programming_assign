{
 "cells": [
  {
   "cell_type": "markdown",
   "id": "adf49bf5",
   "metadata": {},
   "source": [
    "1.  In mathematics, the Fibonacci numbers, commonly denoted Fn, form a sequence, called the Fibonacci sequence, such that each number is the sum of the two preceding ones, starting from 0 and 1:\n",
    "\n",
    "\n",
    "\n",
    "\n",
    "\n",
    "\n",
    "\n",
    "\n",
    "\n",
    "\n",
    "The beginning of the sequence is this:\n",
    "\n",
    "0, 1, 1, 2, 3, 5, 8, 13, 21, 34, 55, 89, 144, ...\n",
    "\n",
    "The function fastFib(num) returns the fibonacci number Fn, of the given num as an argument.\n",
    "\n",
    "Examples\n",
    "\n",
    "fib_fast(5) ➞ 5\n",
    "\n",
    "fib_fast(10) ➞ 55\n",
    "\n",
    "fib_fast(20) ➞ 6765\n",
    "\n",
    "fib_fast(50) ➞ 12586269025\n"
   ]
  },
  {
   "cell_type": "code",
   "execution_count": 17,
   "id": "fdfcc870",
   "metadata": {},
   "outputs": [],
   "source": [
    "def fib_fast(n):\n",
    "    a,b=0,1\n",
    "    while(n>0):\n",
    "        a,b=b,a+b\n",
    "        n = n-1\n",
    "    return a "
   ]
  },
  {
   "cell_type": "code",
   "execution_count": 18,
   "id": "5633ed07",
   "metadata": {},
   "outputs": [
    {
     "data": {
      "text/plain": [
       "5"
      ]
     },
     "execution_count": 18,
     "metadata": {},
     "output_type": "execute_result"
    }
   ],
   "source": [
    "fib_fast(5) "
   ]
  },
  {
   "cell_type": "code",
   "execution_count": 19,
   "id": "aa67b3a0",
   "metadata": {},
   "outputs": [
    {
     "data": {
      "text/plain": [
       "55"
      ]
     },
     "execution_count": 19,
     "metadata": {},
     "output_type": "execute_result"
    }
   ],
   "source": [
    "fib_fast(10)"
   ]
  },
  {
   "cell_type": "code",
   "execution_count": 20,
   "id": "e968554b",
   "metadata": {},
   "outputs": [
    {
     "data": {
      "text/plain": [
       "6765"
      ]
     },
     "execution_count": 20,
     "metadata": {},
     "output_type": "execute_result"
    }
   ],
   "source": [
    "fib_fast(20)"
   ]
  },
  {
   "cell_type": "code",
   "execution_count": 21,
   "id": "1fb6840f",
   "metadata": {},
   "outputs": [
    {
     "data": {
      "text/plain": [
       "12586269025"
      ]
     },
     "execution_count": 21,
     "metadata": {},
     "output_type": "execute_result"
    }
   ],
   "source": [
    "fib_fast(50)"
   ]
  },
  {
   "cell_type": "code",
   "execution_count": null,
   "id": "0e1b2916",
   "metadata": {},
   "outputs": [],
   "source": []
  },
  {
   "cell_type": "markdown",
   "id": "3902bf96",
   "metadata": {},
   "source": [
    "2. Create a function that takes a strings characters as ASCII and returns each characters hexadecimal value as a string.\n",
    "\n",
    "Examples\n",
    "\n",
    "convert_to_hex(\"hello world\") ➞ \"68 65 6c 6c 6f 20 77 6f 72 6c 64\"\n",
    "\n",
    "convert_to_hex(\"Big Boi\") ➞ \"42 69 67 20 42 6f 69\"\n",
    "\n",
    "convert_to_hex(\"Marty Poppinson\") ➞ \"4d 61 72 74 79 20 50 6f 70 70 69 6e 73 6f 6e\"\n",
    "\n"
   ]
  },
  {
   "cell_type": "code",
   "execution_count": null,
   "id": "509924d0",
   "metadata": {},
   "outputs": [],
   "source": []
  },
  {
   "cell_type": "code",
   "execution_count": 26,
   "id": "4c66aac3",
   "metadata": {},
   "outputs": [],
   "source": [
    "def convert_to_hex(ascii):\n",
    "    hexa = \"\"\n",
    "    for i in range(len(ascii)):\n",
    "        ch = ascii[i]\n",
    "        in1 = ord(ch)\n",
    "        part = hex(in1).lstrip(\"0x\").rstrip(\"L\")\n",
    "        hexa += part\n",
    "    return hexa"
   ]
  },
  {
   "cell_type": "code",
   "execution_count": 27,
   "id": "898db014",
   "metadata": {},
   "outputs": [
    {
     "data": {
      "text/plain": [
       "'68656c6c6f20776f726c64'"
      ]
     },
     "execution_count": 27,
     "metadata": {},
     "output_type": "execute_result"
    }
   ],
   "source": [
    "convert_to_hex(\"hello world\")"
   ]
  },
  {
   "cell_type": "code",
   "execution_count": 28,
   "id": "f5ef2a32",
   "metadata": {},
   "outputs": [
    {
     "data": {
      "text/plain": [
       "'42696720426f69'"
      ]
     },
     "execution_count": 28,
     "metadata": {},
     "output_type": "execute_result"
    }
   ],
   "source": [
    "convert_to_hex(\"Big Boi\") "
   ]
  },
  {
   "cell_type": "code",
   "execution_count": 29,
   "id": "044c2eab",
   "metadata": {},
   "outputs": [
    {
     "data": {
      "text/plain": [
       "'4d6172747920506f7070696e736f6e'"
      ]
     },
     "execution_count": 29,
     "metadata": {},
     "output_type": "execute_result"
    }
   ],
   "source": [
    "convert_to_hex(\"Marty Poppinson\")"
   ]
  },
  {
   "cell_type": "code",
   "execution_count": null,
   "id": "dbd322f7",
   "metadata": {},
   "outputs": [],
   "source": []
  },
  {
   "cell_type": "markdown",
   "id": "aad5a8cc",
   "metadata": {},
   "source": [
    "3. Someone has attempted to censor my strings by replacing every vowel with a *, l*k* th*s. Luckily, I've been able to find the vowels that were removed.\n",
    "\n",
    "Given a censored string and a string of the censored vowels, return the original uncensored string.\n",
    "\n",
    "Example\n",
    "\n",
    "uncensor(\"Wh*r* d*d my v*w*ls g*?\", \"eeioeo\") ➞ \"Where did my vowels go?\"\n",
    "\n",
    "uncensor(\"abcd\", \"\") ➞ \"abcd\"\n",
    "\n",
    "uncensor(\"*PP*RC*S*\", \"UEAE\") ➞ \"UPPERCASE\"\n"
   ]
  },
  {
   "cell_type": "code",
   "execution_count": 65,
   "id": "ee136783",
   "metadata": {},
   "outputs": [],
   "source": [
    "def uncensor(string, vowels):\n",
    "    new = \"\"\n",
    "    counter = 0\n",
    "    for i in range(len(string)):\n",
    "        if string[i] == \"*\":\n",
    "            new += vowels[counter]\n",
    "            counter += 1\n",
    "        else:\n",
    "            new = new + string[i]\n",
    "            return new"
   ]
  },
  {
   "cell_type": "code",
   "execution_count": 66,
   "id": "6e85baf8",
   "metadata": {},
   "outputs": [
    {
     "name": "stdout",
     "output_type": "stream",
     "text": [
      "W\n"
     ]
    }
   ],
   "source": [
    "print(uncensor(\"Whr* d*d my v*w*ls g*?\", \"eeioeo\"))"
   ]
  },
  {
   "cell_type": "code",
   "execution_count": 67,
   "id": "8e4b3077",
   "metadata": {},
   "outputs": [
    {
     "data": {
      "text/plain": [
       "'a'"
      ]
     },
     "execution_count": 67,
     "metadata": {},
     "output_type": "execute_result"
    }
   ],
   "source": [
    "uncensor(\"abcd\", \"\")"
   ]
  },
  {
   "cell_type": "code",
   "execution_count": 68,
   "id": "b4783c46",
   "metadata": {},
   "outputs": [
    {
     "data": {
      "text/plain": [
       "'UP'"
      ]
     },
     "execution_count": 68,
     "metadata": {},
     "output_type": "execute_result"
    }
   ],
   "source": [
    "uncensor(\"*PP*RC*S*\", \"UEAE\")"
   ]
  },
  {
   "cell_type": "code",
   "execution_count": null,
   "id": "cd974af0",
   "metadata": {},
   "outputs": [],
   "source": []
  },
  {
   "cell_type": "markdown",
   "id": "a2d3a1dc",
   "metadata": {},
   "source": [
    "4. Write a function that takes an IP address and returns the domain name using PTR DNS records.\n",
    "\n",
    "Example\n",
    "\n",
    "get_domain(\"8.8.8.8\") ➞ \"dns.google\"\n",
    "\n",
    "get_domain(\"8.8.4.4\") ➞ \"dns.google\"\n"
   ]
  },
  {
   "cell_type": "code",
   "execution_count": 5,
   "id": "82088748",
   "metadata": {},
   "outputs": [
    {
     "name": "stdout",
     "output_type": "stream",
     "text": [
      "Collecting dnspython\n",
      "  Downloading dnspython-2.1.0-py3-none-any.whl (241 kB)\n",
      "Installing collected packages: dnspython\n",
      "Successfully installed dnspython-2.1.0\n",
      "Note: you may need to restart the kernel to use updated packages.\n"
     ]
    }
   ],
   "source": [
    "pip install dnspython"
   ]
  },
  {
   "cell_type": "code",
   "execution_count": 1,
   "id": "fab241f3",
   "metadata": {},
   "outputs": [],
   "source": [
    "import dns.resolver"
   ]
  },
  {
   "cell_type": "code",
   "execution_count": 4,
   "id": "d99a88f8",
   "metadata": {},
   "outputs": [],
   "source": [
    "import socket"
   ]
  },
  {
   "cell_type": "code",
   "execution_count": 5,
   "id": "3bfe0cb0",
   "metadata": {},
   "outputs": [],
   "source": [
    "def get_domain(n):\n",
    "    result = socket.gethostbyaddr(n)\n",
    "    return result"
   ]
  },
  {
   "cell_type": "code",
   "execution_count": 6,
   "id": "c1d2e740",
   "metadata": {},
   "outputs": [
    {
     "data": {
      "text/plain": [
       "('dns.google', [], ['8.8.8.8'])"
      ]
     },
     "execution_count": 6,
     "metadata": {},
     "output_type": "execute_result"
    }
   ],
   "source": [
    "get_domain(\"8.8.8.8\") "
   ]
  },
  {
   "cell_type": "code",
   "execution_count": 7,
   "id": "1beede2f",
   "metadata": {},
   "outputs": [
    {
     "data": {
      "text/plain": [
       "('dns.google', [], ['8.8.4.4'])"
      ]
     },
     "execution_count": 7,
     "metadata": {},
     "output_type": "execute_result"
    }
   ],
   "source": [
    "get_domain(\"8.8.4.4\")"
   ]
  },
  {
   "cell_type": "code",
   "execution_count": null,
   "id": "6640cd47",
   "metadata": {},
   "outputs": [],
   "source": []
  },
  {
   "cell_type": "markdown",
   "id": "84174ec6",
   "metadata": {},
   "source": [
    "\n",
    "5. Create a function that takes an integer n and returns the factorial of factorials. See below examples for a better understanding:\n",
    "\n",
    "Examples\n",
    "\n",
    "fact_of_fact(4) ➞ 288\n",
    "# 4! * 3! * 2! * 1! = 288\n",
    "\n",
    "fact_of_fact(5) ➞ 34560\n",
    "\n",
    "fact_of_fact(6) ➞ 24883200\n"
   ]
  },
  {
   "cell_type": "code",
   "execution_count": 26,
   "id": "15a38a0d",
   "metadata": {},
   "outputs": [],
   "source": [
    "def fact_of_fact(n):\n",
    "    m=[]\n",
    "    for i in range(1,n+1):\n",
    "        m.append(math.factorial(i))\n",
    "    return math.prod(m)\n",
    "    "
   ]
  },
  {
   "cell_type": "code",
   "execution_count": 27,
   "id": "4d033b9b",
   "metadata": {},
   "outputs": [
    {
     "data": {
      "text/plain": [
       "34560"
      ]
     },
     "execution_count": 27,
     "metadata": {},
     "output_type": "execute_result"
    }
   ],
   "source": [
    "fact_of_fact(5)"
   ]
  },
  {
   "cell_type": "code",
   "execution_count": 28,
   "id": "b35ca2bb",
   "metadata": {},
   "outputs": [
    {
     "data": {
      "text/plain": [
       "24883200"
      ]
     },
     "execution_count": 28,
     "metadata": {},
     "output_type": "execute_result"
    }
   ],
   "source": [
    "fact_of_fact(6)"
   ]
  },
  {
   "cell_type": "code",
   "execution_count": null,
   "id": "93d122f6",
   "metadata": {},
   "outputs": [],
   "source": []
  }
 ],
 "metadata": {
  "kernelspec": {
   "display_name": "Python 3",
   "language": "python",
   "name": "python3"
  },
  "language_info": {
   "codemirror_mode": {
    "name": "ipython",
    "version": 3
   },
   "file_extension": ".py",
   "mimetype": "text/x-python",
   "name": "python",
   "nbconvert_exporter": "python",
   "pygments_lexer": "ipython3",
   "version": "3.8.8"
  }
 },
 "nbformat": 4,
 "nbformat_minor": 5
}
